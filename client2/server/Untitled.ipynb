{
 "cells": [
  {
   "cell_type": "markdown",
   "id": "716a65a1-3f93-45b6-b15a-b8c7c9bd7303",
   "metadata": {},
   "source": [
    "DATA CLEANING"
   ]
  },
  {
   "cell_type": "code",
   "execution_count": 10,
   "id": "4630dd4e-9630-482f-9bac-dbb12ef25562",
   "metadata": {},
   "outputs": [
    {
     "ename": "ModuleNotFoundError",
     "evalue": "No module named 'cv2'",
     "output_type": "error",
     "traceback": [
      "\u001b[1;31m---------------------------------------------------------------------------\u001b[0m",
      "\u001b[1;31mModuleNotFoundError\u001b[0m                       Traceback (most recent call last)",
      "Cell \u001b[1;32mIn[10], line 3\u001b[0m\n\u001b[0;32m      1\u001b[0m \u001b[38;5;28;01mimport\u001b[39;00m \u001b[38;5;21;01mtensorflow\u001b[39;00m \u001b[38;5;28;01mas\u001b[39;00m \u001b[38;5;21;01mtf\u001b[39;00m\n\u001b[0;32m      2\u001b[0m \u001b[38;5;28;01mimport\u001b[39;00m \u001b[38;5;21;01mos\u001b[39;00m\n\u001b[1;32m----> 3\u001b[0m \u001b[38;5;28;01mimport\u001b[39;00m \u001b[38;5;21;01mcv2\u001b[39;00m\n\u001b[0;32m      4\u001b[0m \u001b[38;5;28;01mimport\u001b[39;00m \u001b[38;5;21;01mimghdr\u001b[39;00m\n\u001b[0;32m      6\u001b[0m Dir \u001b[38;5;241m=\u001b[39m \u001b[38;5;124m'\u001b[39m\u001b[38;5;124mDataset\u001b[39m\u001b[38;5;124m'\u001b[39m\n",
      "\u001b[1;31mModuleNotFoundError\u001b[0m: No module named 'cv2'"
     ]
    }
   ],
   "source": [
    "import tensorflow as tf\n",
    "import os\n",
    "import cv2\n",
    "import imghdr\n",
    "\n",
    "Dir = 'Dataset'\n",
    "\n",
    "ImageExts = ['jpeg', 'jpg', 'png']\n",
    "\n",
    "for ImageClass in os.listdir(Dir): \n",
    "    for Image in os.listdir(os.path.join(Dir, ImageClass)):\n",
    "        ImagePath = os.path.join(Dir, ImageClass, Image)\n",
    "        try: \n",
    "            Img = cv2.imread(ImagePath)\n",
    "            ImgExt = imghdr.what(ImagePath)\n",
    "            if ImgExt not in ImageExts:\n",
    "                print(f'Extension not compatible, thus will be removed: {ImagePath}')\n",
    "                os.remove(ImagePath)\n",
    "        except Exception as e:\n",
    "            print(f'Issue with image {ImagePath}')"
   ]
  },
  {
   "cell_type": "code",
   "execution_count": null,
   "id": "30bc0cf7-2c1a-4d06-b2c0-3cf106b4f3d6",
   "metadata": {},
   "outputs": [],
   "source": []
  },
  {
   "cell_type": "code",
   "execution_count": null,
   "id": "96d2769b-2b74-4430-b30d-fa08c78fd193",
   "metadata": {},
   "outputs": [],
   "source": []
  }
 ],
 "metadata": {
  "kernelspec": {
   "display_name": "Python 3 (ipykernel)",
   "language": "python",
   "name": "python3"
  },
  "language_info": {
   "codemirror_mode": {
    "name": "ipython",
    "version": 3
   },
   "file_extension": ".py",
   "mimetype": "text/x-python",
   "name": "python",
   "nbconvert_exporter": "python",
   "pygments_lexer": "ipython3",
   "version": "3.12.7"
  }
 },
 "nbformat": 4,
 "nbformat_minor": 5
}
